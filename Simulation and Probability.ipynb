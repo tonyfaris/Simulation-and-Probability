{
 "cells": [
  {
   "cell_type": "markdown",
   "id": "7bc7340e",
   "metadata": {},
   "source": [
    "# Homework 1: Simulation, and probability"
   ]
  },
  {
   "cell_type": "markdown",
   "id": "b9322c84",
   "metadata": {},
   "source": [
    "## Question 0. Goat, please\n",
    "\n",
    "I have two chickens and one goat, and am going to give one to you,\n",
    "but you have to pick *randomly*.\n",
    "We have three barn stalls that you can't see in, and I put one animal in each stall,\n",
    "in a randomly chosen order.\n",
    "Let us suppose that you would like to get a chicken (the goat won't fit in your apartment).\n",
    "You then pick a stall.\n",
    "Then, I open one of the *other* stalls that has a chicken in it (I can always do this),\n",
    "and remove that chicken.\n",
    "Now, you have the choice of either taking what's in the stall you originally picked,\n",
    "or taking what's in the *other* (as yet unopened) stall.\n",
    "\n",
    "**(a)** First, decide whether you'd like to switch stalls in the last step or not.\n",
    "    Then, write python code to simulate from this procedure.\n",
    "    The code should explicitly represent what happens (e.g., which animal is in which stall),\n",
    "    and produce either `\"chicken\"` or `\"goat\"`, corresponding to which animal you get in the end.\n",
    "    \n",
    "**(b)** Use your code to simulate at least 10,000 times.\n",
    "    Report how often you get a chicken."
   ]
  },
  {
   "cell_type": "markdown",
   "id": "0404ad3a",
   "metadata": {},
   "source": [
    "Here's one way to choose random numbers:"
   ]
  },
  {
   "cell_type": "code",
   "execution_count": 4,
   "id": "6e7a9281",
   "metadata": {},
   "outputs": [
    {
     "name": "stdout",
     "output_type": "stream",
     "text": [
      "Here is a random number between 0 and 1: [0.89571783] and a random integer in (0, 1, 2): 2\n"
     ]
    }
   ],
   "source": [
    "import numpy as np\n",
    "rng = np.random  #or, you may need to say: rng = np.random.default_rng()\n",
    "u = rng.uniform(size=1)\n",
    "k = rng.choice([0, 1, 2])\n",
    "print(f\"Here is a random number between 0 and 1: {u} and a random integer in (0, 1, 2): {k}\")"
   ]
  },
  {
   "cell_type": "code",
   "execution_count": 6,
   "id": "6f95ac28-758c-4375-a7cd-09e9b1e3ad3b",
   "metadata": {},
   "outputs": [
    {
     "name": "stdout",
     "output_type": "stream",
     "text": [
      "Chicken count: 6735\n",
      "Goat count: 3265\n"
     ]
    }
   ],
   "source": [
    "#A) Yes I decided to switch in the last step because I already know what was in stall 1 (with probability 1:3)\n",
    "# So with knowing what was behind the first stall its better to change and my odds would double 2:3.\n",
    "# I get better odds after the first stall was opened to me, so I decided to change.\n",
    "\n",
    "import numpy as np\n",
    "\n",
    "stall = [\"chicken\", \"chicken\", \"goat\"] #Created our stall(s)\n",
    "\n",
    "#Beginning with 0's\n",
    "total_chicken = 0\n",
    "total_goat = 0\n",
    "\n",
    "rng = np.random.default_rng()\n",
    "\n",
    "#started a forloop up to 10,0000, if it reaches one it adds.\n",
    "for i in range(10000):\n",
    "    current_animal = rng.choice(stall)\n",
    "    if current_animal == \"goat\":\n",
    "        total_goat += 1\n",
    "    else:\n",
    "        total_chicken += 1\n",
    "\n",
    "\n",
    "#prints both chicken and goat count\n",
    "print(f\"Chicken count: {total_chicken}\")\n",
    "print(f\"Goat count: {total_goat}\")\n"
   ]
  },
  {
   "cell_type": "markdown",
   "id": "5bbc08b9",
   "metadata": {
    "slideshow": {
     "slide_type": ""
    },
    "tags": []
   },
   "source": [
    "## Question 1. The geometric distribution\n",
    "\n",
    "Wikipedia tells us that the [Geometric distribution](https://en.wikipedia.org/wiki/Geometric_distribution)\n",
    "is \"the number $X$ of [Bernoulli trials](https://en.wikipedia.org/wiki/Bernoulli_trial)\n",
    "needed to get one success\",\n",
    "and so if $X$ has the Geometric distribution with parameter $p$,\n",
    "then\n",
    "$$ \\mathbb{P}\\{ X = k \\} = (1 - p)^{k-1} p, $$\n",
    "for $k \\in \\{1, 2, 3, \\ldots\\}$.\n",
    "(There's another nearly-the-same definition,\n",
    "but this is the version numpy.random provides.)\n",
    "A \"Bernoulli trial\" with probability $p$ is just something that is 1 with probability $p$\n",
    "and 0 with probability $1-p$.\n",
    "\n",
    "Check this:\n",
    "\n",
    "*(a)* write a function that takes $p$ as an argument, simulates Bernoulli trials\n",
    "    until the first success, and returns the number of trials;\n",
    "\n",
    "*(b)* use this function to simulate many (at least 1,000) draws from the Geometric(1/3); and\n",
    "\n",
    "*(c)* compare the result to the same number of draws from the numpy.random implementation\n",
    "    by making a table of the number draws that take the value $k$ for $0 \\le k \\le 20$.\n",
    "    (If they are not similar, go back and fix your function.\n",
    "    To get an idea of what is \"similar\", re-run the code and see how much they change.)"
   ]
  },
  {
   "cell_type": "markdown",
   "id": "68e4bacb",
   "metadata": {
    "slideshow": {
     "slide_type": ""
    },
    "tags": []
   },
   "source": [
    "You may want to use these methods:"
   ]
  },
  {
   "cell_type": "code",
   "execution_count": 10,
   "id": "3bcc4193",
   "metadata": {
    "slideshow": {
     "slide_type": ""
    },
    "tags": []
   },
   "outputs": [],
   "source": [
    "import numpy as np\n",
    "rng = np.random.default_rng()\n",
    "# rng.uniform() < p   # this is True with probability p\n",
    "# x = rng.geometric( ... )  # numpy.random's implementation"
   ]
  },
  {
   "cell_type": "code",
   "execution_count": 12,
   "id": "54de052c-37c2-4a0b-aa59-4f2f98a0b033",
   "metadata": {},
   "outputs": [
    {
     "name": "stdout",
     "output_type": "stream",
     "text": [
      "k = 1 : Custom = 347, Numpy = 321\n",
      "k = 2 : Custom = 221, Numpy = 235\n",
      "k = 3 : Custom = 143, Numpy = 160\n",
      "k = 4 : Custom = 93, Numpy = 107\n",
      "k = 5 : Custom = 65, Numpy = 60\n",
      "k = 6 : Custom = 43, Numpy = 41\n",
      "k = 7 : Custom = 30, Numpy = 20\n",
      "k = 8 : Custom = 23, Numpy = 24\n",
      "k = 9 : Custom = 7, Numpy = 11\n",
      "k = 10 : Custom = 9, Numpy = 5\n",
      "k = 11 : Custom = 7, Numpy = 6\n",
      "k = 12 : Custom = 4, Numpy = 4\n",
      "k = 13 : Custom = 2, Numpy = 4\n",
      "k = 14 : Custom = 0, Numpy = 1\n",
      "k = 15 : Custom = 1, Numpy = 0\n",
      "k = 16 : Custom = 1, Numpy = 0\n",
      "k = 17 : Custom = 3, Numpy = 1\n",
      "k = 18 : Custom = 0, Numpy = 0\n",
      "k = 19 : Custom = 0, Numpy = 0\n",
      "k = 20 : Custom = 0, Numpy = 0\n"
     ]
    }
   ],
   "source": [
    "# Part 1A - using p has an argument that simulates the Bernoulli trial until the first success and returns the rest\n",
    "\n",
    "def bernoulli_trials(p):\n",
    "    number_trials = 0\n",
    "    success = False\n",
    "    \n",
    "    while success == False:\n",
    "        number_trials += 1\n",
    "        success = np.random.rand() < p\n",
    "        \n",
    "    return number_trials\n",
    "\n",
    "# Part 1B - simluate atleast 1000 draws \n",
    "p = 1/3\n",
    "number_sim = 1000\n",
    "\n",
    "trials = []\n",
    "\n",
    "for i in range(number_sim):\n",
    "    temp = bernoulli_trials(p)\n",
    "    trials.append(temp)\n",
    "    \n",
    "np_data = np.random.geometric(p, number_sim)\n",
    "\n",
    "#Part 1C - compares the results and numbers from random\n",
    "k_max = 20\n",
    "\n",
    "distance = {}\n",
    "np_distance = {}\n",
    "\n",
    "for k in range(1, k_max + 1):\n",
    "    distance[k] = trials.count(k)\n",
    "    np_distance[k] = list(np_data).count(k)\n",
    "\n",
    "\n",
    "#Prints the outcome to produce the k, custom, and Numpy\n",
    "for k in range(1, k_max + 1):\n",
    "    print(f\"k = {k} : Custom = {distance.get(k,0)}, Numpy = {np_distance.get(k,0)}\")"
   ]
  },
  {
   "cell_type": "markdown",
   "id": "875dba03",
   "metadata": {
    "slideshow": {
     "slide_type": ""
    },
    "tags": []
   },
   "source": [
    "## Question 2. Ascending sums\n",
    "\n",
    "For each $i \\ge 1$, Let $D_i$ be a random number drawn\n",
    "independently and uniformly from $\\{1, 2, 3, 4, 5, 6\\}$.\n",
    "Let $$ K = \\min\\{ k \\ge 1 \\;:\\; D_{k+1} < D_k \\} , $$\n",
    "i.e., $K$ is defined by the fact that\n",
    "$D_{K+1}$ is the first number that is smaller than the one before it.\n",
    "Finally, let\n",
    "$$ X = \\sum_{i=1}^K D_i . $$\n",
    "\n",
    "**a.** Describe in words what the above sum means, and explain how to simulate $X$ using fair dice.\n",
    "\n",
    "**b.** Write a function to simulate $X$ (in python).\n",
    "    The function should have one argument, `size`,\n",
    "    that determines the number of independent samples of $X$ that are returned.\n",
    "\n",
    "**c.** Make a plot describing the distribution of $X$, and estimate its mean (by simulating at least $10^5$ values)."
   ]
  },
  {
   "cell_type": "markdown",
   "id": "60a7b29e-528f-4a24-b7e5-2e666e8df819",
   "metadata": {},
   "source": [
    "**PART A**\n",
    "\n",
    "The sum means the total of series of dice rolls starting from the first roll and counting until the dice roll is less than the previous rolls. To simulate the dice, begin with rolling and writing down the result, then again adding together, BUT if the dice results into a value that is less than its previous roll which endicates the sum of means."
   ]
  },
  {
   "cell_type": "code",
   "execution_count": 17,
   "id": "67950a63",
   "metadata": {},
   "outputs": [
    {
     "data": {
      "text/plain": [
       "array([13, 12,  5,  6,  9, 11,  4, 10,  2, 14])"
      ]
     },
     "execution_count": 17,
     "metadata": {},
     "output_type": "execute_result"
    }
   ],
   "source": [
    "import numpy as np\n",
    "\n",
    "def simulate_X(size):\n",
    "    roll_sum = [] #begins with an empty set to add the sum of rolls\n",
    "\n",
    "#forloop for the number of the size\n",
    "    for i in range(size):\n",
    "        first_roll = np.random.choice([1,2,3,4,5,6]) #dice roll from 1-6\n",
    "        total_sum = first_roll #first roll\n",
    "        while True:\n",
    "            next_roll = np.random.choice([1,2,3,4,5,6])\n",
    "            if next_roll < first_roll: #checks for the next role if its smaller, then it'll move forward to break\n",
    "                break #break the loop if the next roll is smaller which ends up stopping the sum\n",
    "            total_sum += next_roll\n",
    "            first_roll = next_roll\n",
    "            \n",
    "        roll_sum.append(total_sum) #stores in list\n",
    "        \n",
    "    return np.array(roll_sum)\n",
    "\n",
    "simulate_X(10)\n"
   ]
  },
  {
   "cell_type": "code",
   "execution_count": 19,
   "id": "11a47759-faa2-4cdc-b3e3-949e342a0e94",
   "metadata": {},
   "outputs": [
    {
     "data": {
      "image/png": "[encoded data removed]",
      "text/plain": [
       "<Figure size 640x480 with 1 Axes>"
      ]
     },
     "metadata": {},
     "output_type": "display_data"
    },
    {
     "name": "stdout",
     "output_type": "stream",
     "text": [
      "Estimated Mean of X: 7.97838\n"
     ]
    }
   ],
   "source": [
    "import matplotlib.pyplot as plt\n",
    "\n",
    "#simulates 100,000 samples\n",
    "sample_size = 10**5\n",
    "sample = simulate_X(sample_size)\n",
    "\n",
    "#plotting of the samples; Size, design, x and y labels\n",
    "\n",
    "plt.hist(sample, bins=range(1, max(sample)+1), align='left', color='skyblue')\n",
    "\n",
    "#titles of graphs\n",
    "plt.title('Distribution of Sum X')\n",
    "plt.xlabel('Sum X')\n",
    "plt.ylabel('Frequency')\n",
    "plt.grid(True)\n",
    "plt.show()\n",
    "\n",
    "#mean_x estimates the mean of X\n",
    "mean_X = np.mean(sample)\n",
    "print(\"Estimated Mean of X:\", mean_X)\n"
   ]
  }
 ],
 "metadata": {
  "celltoolbar": "Tags",
  "kernelspec": {
   "display_name": "Python 3 (ipykernel)",
   "language": "python",
   "name": "python3"
  },
  "language_info": {
   "codemirror_mode": {
    "name": "ipython",
    "version": 3
   },
   "file_extension": ".py",
   "mimetype": "text/x-python",
   "name": "python",
   "nbconvert_exporter": "python",
   "pygments_lexer": "ipython3",
   "version": "3.12.4"
  }
 },
 "nbformat": 4,
 "nbformat_minor": 5
}
